{
 "cells": [
  {
   "cell_type": "markdown",
   "id": "7135644b",
   "metadata": {},
   "source": [
    "# Movie Ratings Analysis: Letterboxd Dataset"
   ]
  },
  {
   "cell_type": "code",
   "execution_count": null,
   "id": "30df3a36",
   "metadata": {},
   "outputs": [],
   "source": [
    "# Import required libraries\n",
    "import pandas as pd\n",
    "import numpy as np\n",
    "import seaborn as sns\n",
    "import matplotlib.pyplot as plt"
   ]
  },
  {
   "cell_type": "code",
   "execution_count": null,
   "id": "251c75c9",
   "metadata": {},
   "outputs": [],
   "source": [
    "# Load the dataset\n",
    "file_path = '../datasets/Letterbox Movie Classification Dataset.csv'\n",
    "df = pd.read_csv(file_path, index_col=0)\n",
    "df.head()"
   ]
  },
  {
   "cell_type": "markdown",
   "id": "a34440af",
   "metadata": {},
   "source": [
    "## Data Cleaning\n",
    "- Check for missing values\n",
    "- Convert columns to appropriate types\n",
    "- Parse genres from string to list"
   ]
  },
  {
   "cell_type": "code",
   "execution_count": null,
   "id": "0446127d",
   "metadata": {},
   "outputs": [],
   "source": [
    "# Data cleaning functions\n",
    "def parse_genres(genre_str):\n",
    "    try:\n",
    "        return eval(genre_str)\n",
    "    except:\n",
    "        return []\n",
    "\n",
    "def clean_dataframe(df):\n",
    "    df = df.copy()\n",
    "    df['Genres'] = df['Genres'].apply(parse_genres)\n",
    "    df['Runtime'] = pd.to_numeric(df['Runtime'], errors='coerce')\n",
    "    df['Average_rating'] = pd.to_numeric(df['Average_rating'], errors='coerce')\n",
    "    return df\n",
    "\n",
    "df = clean_dataframe(df)\n",
    "df.info()"
   ]
  },
  {
   "cell_type": "markdown",
   "id": "98ec7573",
   "metadata": {},
   "source": [
    "## Grouping and Aggregation\n",
    "- By genre: count, average rating\n",
    "- By year: count, average rating\n",
    "- By rating: distribution"
   ]
  },
  {
   "cell_type": "code",
   "execution_count": null,
   "id": "dd2f691c",
   "metadata": {},
   "outputs": [],
   "source": [
    "# Group by genre: count and average rating\n",
    "def genre_stats(df):\n",
    "    genre_list = []\n",
    "    for _, row in df.iterrows():\n",
    "        for genre in row['Genres']:\n",
    "            genre_list.append({'Genre': genre, 'Average_rating': row['Average_rating']})\n",
    "    genre_df = pd.DataFrame(genre_list)\n",
    "    return genre_df.groupby('Genre').agg({'Average_rating': ['count', 'mean']}).sort_values(('Average_rating', 'count'), ascending=False)\n",
    "\n",
    "genre_stats(df)"
   ]
  },
  {
   "cell_type": "code",
   "execution_count": null,
   "id": "d0954edc",
   "metadata": {},
   "outputs": [],
   "source": [
    "# Rating distribution\n",
    "sns.histplot(df['Average_rating'].dropna(), bins=20, kde=True)\n",
    "plt.title('Distribution of Average Ratings')\n",
    "plt.xlabel('Average Rating')\n",
    "plt.ylabel('Count')\n",
    "plt.show()"
   ]
  },
  {
   "cell_type": "markdown",
   "id": "681c5ea6",
   "metadata": {},
   "source": [
    "## Visualization by Genre"
   ]
  },
  {
   "cell_type": "code",
   "execution_count": null,
   "id": "f40f1417",
   "metadata": {},
   "outputs": [],
   "source": [
    "# Top genres by number of films\n",
    "genre_df = genre_stats(df).reset_index()\n",
    "sns.barplot(data=genre_df.head(10), x=('Average_rating', 'count'), y='Genre')\n",
    "plt.title('Top 10 Genres by Number of Films')\n",
    "plt.xlabel('Number of Films')\n",
    "plt.ylabel('Genre')\n",
    "plt.show()"
   ]
  },
  {
   "cell_type": "code",
   "execution_count": null,
   "id": "70d0d011",
   "metadata": {},
   "outputs": [],
   "source": [
    "# Average rating by genre\n",
    "sns.barplot(data=genre_df.sort_values(('Average_rating', 'mean'), ascending=False).head(10), x=('Average_rating', 'mean'), y='Genre')\n",
    "plt.title('Top 10 Genres by Average Rating')\n",
    "plt.xlabel('Average Rating')\n",
    "plt.ylabel('Genre')\n",
    "plt.show()"
   ]
  },
  {
   "cell_type": "markdown",
   "id": "24f6fb9e",
   "metadata": {},
   "source": [
    "## Further Analysis\n",
    "- Grouping by director, language, or studio\n",
    "- Correlation between runtime and rating"
   ]
  },
  {
   "cell_type": "code",
   "execution_count": null,
   "id": "acf40540",
   "metadata": {},
   "outputs": [],
   "source": [
    "# Correlation between runtime and average rating\n",
    "sns.scatterplot(data=df, x='Runtime', y='Average_rating', alpha=0.5)\n",
    "plt.title('Runtime vs. Average Rating')\n",
    "plt.xlabel('Runtime (minutes)')\n",
    "plt.ylabel('Average Rating')\n",
    "plt.show()"
   ]
  },
  {
   "cell_type": "markdown",
   "id": "067eb7fa",
   "metadata": {},
   "source": [
    "## Export to Google Sheets\n",
    "Export analysis results to Google Sheets using gspread."
   ]
  },
  {
   "cell_type": "code",
   "execution_count": null,
   "id": "078a057a",
   "metadata": {},
   "outputs": [],
   "source": [
    "# Install gspread and gspread_dataframe if not already installed\n",
    "# !pip install gspread gspread_dataframe oauth2client\n",
    "\n",
    "import gspread\n",
    "from gspread_dataframe import set_with_dataframe\n",
    "from oauth2client.service_account import ServiceAccountCredentials\n",
    "\n",
    "# Define the scope and authenticate\n",
    "scope = [\n",
    "    'https://spreadsheets.google.com/feeds',\n",
    "    'https://www.googleapis.com/auth/drive'\n",
    "]\n",
    "\n",
    "creds = ServiceAccountCredentials.from_json_keyfile_name('path/to/your/service_account.json', scope)\n",
    "client = gspread.authorize(creds)\n",
    "\n",
    "# Open the Google Sheet by URL\n",
    "sheet = client.open_by_url('https://docs.google.com/spreadsheets/d/14c7eIw_OK7T7QanFg2khj8uakrGPokMIvggoBMlFt-Q/edit?usp=sharing')\n",
    "worksheet = sheet.sheet1\n",
    "\n",
    "# Example: Export the genre statistics DataFrame\n",
    "genre_df = genre_stats(df).reset_index()\n",
    "set_with_dataframe(worksheet, genre_df)\n",
    "\n",
    "print('Data exported to Google Sheets successfully.')"
   ]
  }
 ],
 "metadata": {
  "language_info": {
   "name": "python"
  }
 },
 "nbformat": 4,
 "nbformat_minor": 5
}
